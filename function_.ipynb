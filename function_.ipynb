{
 "cells": [
  {
   "cell_type": "code",
   "execution_count": null,
   "id": "99aa7360-7274-4fc0-ad05-9a35bfcf0ebd",
   "metadata": {},
   "outputs": [],
   "source": [
    "#theory question"
   ]
  },
  {
   "cell_type": "code",
   "execution_count": null,
   "id": "7d89398e-9264-42a5-9313-a8c148cbe519",
   "metadata": {},
   "outputs": [],
   "source": [
    "#1. What is the difference between a function and a method in Python?"
   ]
  },
  {
   "cell_type": "markdown",
   "id": "b3c27e21-2ce8-4605-a2c9-4d8233132ca9",
   "metadata": {},
   "source": [
    "**Functions vs. Methods in Python**\n",
    "\n",
    "In Python, functions and methods are both blocks of code that perform specific tasks, but they differ in their context and usage.\n",
    "\n",
    "**Functions** are standalone pieces of code that can be defined anywhere in a program. They are not tied to specific objects or classes. To call a function, you simply use its name followed by parentheses.\n",
    "\n",
    "**Example:**\n",
    "```python\n",
    "def greet(name):\n",
    "  print(\"Hello, \" + name + \"!\")\n",
    "\n",
    "greet(\"Alice\")  # Output: Hello, Alice!\n",
    "```\n",
    "\n",
    "**Methods**, on the other hand, are functions that are associated with a particular object or class. They are defined within the class and are accessed using dot notation. Methods can operate on the object's attributes and can be used to modify the object's state.\n",
    "\n",
    "**Example:**\n",
    "```python\n",
    "class Dog:\n",
    "  def bark(self):\n",
    "    print(\"Woof!\")\n",
    "\n",
    "my_dog = Dog()\n",
    "my_dog.bark()  # Output: Woof!\n",
    "```\n",
    "\n",
    "In essence, functions are more general-purpose, while methods are tailored to the specific behavior of objects within a class.\n"
   ]
  },
  {
   "cell_type": "code",
   "execution_count": null,
   "id": "89390dad-b213-44c7-85b2-b468aa53f317",
   "metadata": {},
   "outputs": [],
   "source": [
    "#2. Explain the concept of function arguments and parameters in Python"
   ]
  },
  {
   "cell_type": "markdown",
   "id": "aeb1587f-e819-4ba1-9c31-6f0a8b3dfbff",
   "metadata": {},
   "source": [
    "**Function Arguments and Parameters in Python**\n",
    "\n",
    "In Python, functions can take input values, known as **arguments**, to perform their tasks. These arguments are passed to the function when it is called. Inside the function, these arguments are assigned to **parameters**, which are variables that represent the values passed to the function.\n",
    "\n",
    "**Example:**\n",
    "```python\n",
    "def greet(name):  # 'name' is a parameter\n",
    "  print(\"Hello, \" + name + \"!\")\n",
    "\n",
    "greet(\"Alice\")  # 'Alice' is an argument\n",
    "```\n",
    "\n",
    "Here, `greet` is a function that takes one argument, `name`. When the function is called with `greet(\"Alice\")`, the argument `Alice` is assigned to the parameter `name` within the function. The function then uses the value of `name` to print a greeting message.\n",
    "\n",
    "**Key points:**\n",
    "\n",
    "* **Parameters:** Variables defined within the function's parentheses.\n",
    "* **Arguments:** Values passed to the function when it is called.\n",
    "* Arguments are assigned to parameters during function execution.\n",
    "* A function can have multiple parameters.\n",
    "* Parameters can be optional or have default values.\n"
   ]
  },
  {
   "cell_type": "code",
   "execution_count": null,
   "id": "15a0f4e6-2e42-4e99-a1d5-fc8ca807aecd",
   "metadata": {},
   "outputs": [],
   "source": [
    "#3. What are the different ways to define and call a function in Python?"
   ]
  },
  {
   "cell_type": "markdown",
   "id": "08e3b03a-9c12-4eeb-94b5-3bc6a0376506",
   "metadata": {},
   "source": [
    "**Defining and Calling Functions in Python**\n",
    "\n",
    "There are several ways to define and call functions in Python:\n",
    "\n",
    "**1. Simple Function Definition:**\n",
    "   * Use the `def` keyword followed by the function name and parentheses.\n",
    "   * Inside the parentheses, list the parameters the function takes.\n",
    "   * Indent the function's body.\n",
    "\n",
    "**Example:**\n",
    "```python\n",
    "def greet(name):\n",
    "  print(\"Hello, \" + name + \"!\")\n",
    "```\n",
    "\n",
    "**2. Function with Default Arguments:**\n",
    "   * Assign default values to parameters within the parentheses.\n",
    "   * If an argument is not provided when the function is called, the default value is used.\n",
    "\n",
    "**Example:**\n",
    "```python\n",
    "def greet(name=\"World\"):\n",
    "  print(\"Hello, \" + name + \"!\")\n",
    "```\n",
    "\n",
    "**3. Function with Keyword Arguments:**\n",
    "   * Pass arguments to the function using keyword arguments, where the argument name is specified.\n",
    "\n",
    "**Example:**\n",
    "```python\n",
    "def greet(name, age):\n",
    "  print(\"Hello, \" + name + \"! You are \" + str(age) + \" years old.\")\n",
    "\n",
    "greet(age=25, name=\"Alice\")\n",
    "```\n",
    "\n",
    "**4. Function with Arbitrary Arguments:**\n",
    "   * Use `*args` to pass an arbitrary number of positional arguments.\n",
    "   * Use `**kwargs` to pass an arbitrary number of keyword arguments.\n",
    "\n",
    "**Example:**\n",
    "```python\n",
    "def greet(*names):\n",
    "  for name in names:\n",
    "    print(\"Hello, \" + name + \"!\")\n",
    "\n",
    "greet(\"Alice\", \"Bob\", \"Charlie\")\n",
    "```\n",
    "\n",
    "**Calling a Function:**\n",
    "* Use the function name followed by parentheses, passing the required arguments.\n",
    "\n",
    "**Example:**\n",
    "```python\n",
    "greet(\"Alice\")  # Calling the greet function\n",
    "```\n"
   ]
  },
  {
   "cell_type": "code",
   "execution_count": null,
   "id": "023776b9-bd48-46f0-9bfe-26676f545095",
   "metadata": {},
   "outputs": [],
   "source": [
    "#4. What is the purpose of the `return` statement in a Python function?"
   ]
  },
  {
   "cell_type": "markdown",
   "id": "f6db4ab8-8b5f-41c6-b957-f3fabeeb32a8",
   "metadata": {},
   "source": [
    "**The `return` Statement in Python Functions**\n",
    "\n",
    "The `return` statement is used within a function to specify the value that the function should return to the caller. When a function encounters a `return` statement, it immediately stops executing and sends the specified value back to the place where the function was called.\n",
    "\n",
    "**Key points:**\n",
    "\n",
    "* **Value Return:** The `return` statement can be used to return any type of value, including numbers, strings, lists, dictionaries, or even other functions.\n",
    "* **Termination:** Once a `return` statement is executed, the function's execution is terminated. Any code following the `return` statement will not be executed.\n",
    "* **Multiple Returns:** A function can have multiple `return` statements, but only the first one encountered will be executed.\n",
    "* **No Return Value:** If a function does not have a `return` statement, it implicitly returns `None`.\n",
    "\n",
    "**Example:**\n",
    "```python\n",
    "def add(x, y):\n",
    "  result = x + y\n",
    "  return result\n",
    "\n",
    "sum = add(3, 5)\n",
    "print(sum)  # Output: 8\n",
    "```\n",
    "\n",
    "In this example, the `add` function calculates the sum of `x` and `y` and returns the result using the `return` statement. The returned value is then assigned to the variable `sum` and printed."
   ]
  },
  {
   "cell_type": "code",
   "execution_count": null,
   "id": "55c30a3c-614a-4be5-b347-99bd26f48d9a",
   "metadata": {},
   "outputs": [],
   "source": [
    "#5. What are iterators in Python and how do they differ from iterables?"
   ]
  },
  {
   "cell_type": "markdown",
   "id": "11ec7475-871d-4b8a-a831-3a73d64e646b",
   "metadata": {},
   "source": [
    "**Iterators vs. Iterables in Python**\n",
    "\n",
    "In Python, iterators and iterables are closely related concepts used for working with sequences of elements.\n",
    "\n",
    "**Iterables** are objects that can be iterated over, meaning their elements can be accessed one by one. Examples of iterables include lists, tuples, strings, dictionaries, and custom-defined objects that implement the `__iter__` method.\n",
    "\n",
    "**Iterators** are objects that implement the `__iter__` and `__next__` methods. The `__iter__` method returns the iterator itself, and the `__next__` method returns the next element in the sequence. When there are no more elements, it raises a `StopIteration` exception.\n",
    "\n",
    "**Key differences:**\n",
    "\n",
    "* **Iteration Mechanism:** Iterables provide a way to iterate over their elements, while iterators are used to actually perform the iteration.\n",
    "* **State Maintenance:** Iterators keep track of their current position within the sequence, while iterables do not.\n",
    "* **Direct Access:** Iterables can be directly accessed using indexing, while iterators can only be accessed sequentially using the `next` method.\n",
    "\n",
    "**Example:**\n",
    "```python\n",
    "my_list = [1, 2, 3]  # Iterable\n",
    "my_iterator = iter(my_list)  # Iterator\n",
    "\n",
    "print(next(my_iterator))  # Output: 1\n",
    "print(next(my_iterator))  # Output: 2\n",
    "print(next(my_iterator))  # Output: 3\n",
    "print(next(my_iterator))  # Raises StopIteration\n",
    "```\n",
    "\n",
    "In summary, iterables are the objects that can be iterated over, and iterators are the objects that actually perform the iteration by providing the `next` method to access elements sequentially."
   ]
  },
  {
   "cell_type": "code",
   "execution_count": null,
   "id": "9f80892b-b0ae-4c8a-bf9d-22bdd8c32563",
   "metadata": {},
   "outputs": [],
   "source": [
    "#6. Explain the concept of generators in Python and how they are defined."
   ]
  },
  {
   "cell_type": "markdown",
   "id": "5730641c-deea-4403-bd27-9e2a9f47f785",
   "metadata": {},
   "source": [
    "**Generators in Python**\n",
    "\n",
    "Generators are a special type of function that returns an iterator. Unlike regular functions, generators use the `yield` keyword to return values one at a time, pausing execution and saving their state until the next value is requested. This allows for efficient memory usage and lazy evaluation.\n",
    "\n",
    "**Defining Generators:**\n",
    "\n",
    "1. **Use the `yield` keyword:** Instead of `return`, use `yield` to return a value.\n",
    "2. **Pause and resume execution:** Each time `yield` is encountered, the generator's state is saved, and the function returns the yielded value. When the generator is called again, execution resumes from the saved state.\n",
    "3. **Iterate over the generator:** To use a generator, iterate over it using a loop or the `next` function.\n",
    "\n",
    "**Example:**\n",
    "\n",
    "```python\n",
    "def count_up(n):\n",
    "    for i in range(n):\n",
    "        yield i\n",
    "\n",
    "for num in count_up(5):\n",
    "    print(num)\n",
    "```\n",
    "\n",
    "In this example, `count_up` is a generator that yields numbers from 0 to `n-1`. The `for` loop iterates over the generator, printing each number as it is yielded."
   ]
  },
  {
   "cell_type": "code",
   "execution_count": null,
   "id": "5383a87f-3351-4898-b6e6-ca27d1a82192",
   "metadata": {},
   "outputs": [],
   "source": [
    "#7.What are the advantages of using generators over regular functions?"
   ]
  },
  {
   "cell_type": "markdown",
   "id": "6665f2b6-e6bc-4125-b38e-3eabc9b31aa0",
   "metadata": {},
   "source": [
    "**Advantages of Using Generators Over Regular Functions**\n",
    "\n",
    "Generators offer several advantages over regular functions in Python:\n",
    "\n",
    "1. **Memory Efficiency:** Generators avoid creating and storing entire sequences in memory at once. Instead, they produce values one at a time as needed, conserving memory resources.\n",
    "2. **Lazy Evaluation:** Generators evaluate values only when they are requested, which can be beneficial for infinite sequences or computationally expensive operations.\n",
    "3. **Simplified Code:** Generators can often lead to more concise and readable code, especially for tasks that involve producing sequences of values.\n",
    "4. **Custom Iterators:** Generators provide a convenient way to create custom iterators for various data structures or algorithms.\n",
    "5. **Pipeline Processing:** Generators can be used to create pipelines of data processing steps, where the output of one generator is fed as input to the next. This can improve efficiency and modularity.\n",
    "\n",
    "In summary, generators are a powerful tool in Python that offer memory efficiency, lazy evaluation, and simplified code for tasks involving sequences of values.\n"
   ]
  },
  {
   "cell_type": "code",
   "execution_count": null,
   "id": "69a16fc2-eab7-4c5a-9e40-06d9ee7a5852",
   "metadata": {},
   "outputs": [],
   "source": [
    "#8.8. What is a lambda function in Python and when is it typically used?"
   ]
  },
  {
   "cell_type": "markdown",
   "id": "a4fbf3f7-9f79-4ea6-83b1-fb8634bd70e2",
   "metadata": {},
   "source": [
    "**Lambda Functions in Python**\n",
    "\n",
    "Lambda functions, also known as anonymous functions, are small, one-line functions defined without a name. They are often used for simple, one-time calculations or as arguments to other functions.\n",
    "\n",
    "**Syntax:**\n",
    "\n",
    "```python\n",
    "lambda arguments: expression\n",
    "```\n",
    "\n",
    "* `arguments`: A comma-separated list of arguments.\n",
    "* `expression`: An expression that calculates the return value.\n",
    "\n",
    "**Example:**\n",
    "\n",
    "```python\n",
    "add = lambda x, y: x + y\n",
    "result = add(3, 5)\n",
    "print(result)  # Output: 8\n",
    "```\n",
    "\n",
    "**Typical Use Cases:**\n",
    "\n",
    "* **As arguments to higher-order functions:** Lambda functions are often used as arguments to functions that take other functions as input, such as `map`, `filter`, and `reduce`.\n",
    "* **For simple calculations:** When you need a quick, one-time calculation and don't want to define a full-fledged function.\n",
    "* **In list comprehensions:** Lambda functions can be used to define the expression part of a list comprehension.\n",
    "\n",
    "**Advantages:**\n",
    "\n",
    "* Concise and readable for simple functions.\n",
    "* Avoids the need to define a separate named function.\n",
    "* Can be used inline, making code more compact.\n",
    "\n",
    "**Limitations:**\n",
    "\n",
    "* Limited to a single expression.\n",
    "* Can be less readable for complex logic.\n",
    "* May not be suitable for large or reusable functions.\n"
   ]
  },
  {
   "cell_type": "code",
   "execution_count": null,
   "id": "b284cfe2-672c-48c6-8494-c1d0980c8f68",
   "metadata": {},
   "outputs": [],
   "source": [
    "#9. Explain the purpose and usage of the `map()` function in Python."
   ]
  },
  {
   "cell_type": "markdown",
   "id": "bf8182b0-0d42-43c9-8beb-4834fc6c9a85",
   "metadata": {},
   "source": [
    "The `map()` function in Python is a built-in function that applies a given function to each element of an iterable (like a list, tuple, or dictionary) and returns a new iterable containing the results.\n",
    "\n",
    "**Purpose:**\n",
    "\n",
    "* To apply a function to every element of an iterable efficiently.\n",
    "* To transform the elements of an iterable into a new format.\n",
    "\n",
    "**Usage:**\n",
    "\n",
    "```python\n",
    "map(function, iterable)\n",
    "```\n",
    "\n",
    "* `function`: The function to be applied to each element.\n",
    "* `iterable`: The iterable whose elements will be mapped.\n",
    "\n",
    "**Example:**\n",
    "\n",
    "```python\n",
    "numbers = [1, 2, 3, 4, 5]\n",
    "squared_numbers = map(lambda x: x**2, numbers)\n",
    "print(list(squared_numbers))  # Output: [1, 4, 9, 16, 25]\n",
    "```\n",
    "\n",
    "In this example, the `map()` function applies the lambda function `lambda x: x**2` to each element of the `numbers` list, squaring each number and returning a new iterable containing the squared values.\n",
    "\n",
    "**Key points:**\n",
    "\n",
    "* `map()` returns an iterator, not a list. To get a list of the results, you need to convert the iterator to a list using `list()`.\n",
    "* `map()` can be used with any function that takes a single argument.\n",
    "* `map()` is often used with lambda functions for concise expressions.\n"
   ]
  },
  {
   "cell_type": "code",
   "execution_count": null,
   "id": "0e5586ce-674c-4b8f-b353-215fe9d78d4d",
   "metadata": {},
   "outputs": [],
   "source": [
    "#10. What is the difference between `map()`, `reduce()`, and `filter()` functions in Python?"
   ]
  },
  {
   "cell_type": "markdown",
   "id": "ebf7d366-6e38-4fcf-af28-c6ffeb68b58d",
   "metadata": {},
   "source": [
    "**map(), reduce(), and filter()** are three powerful functions in Python used for functional programming.\n",
    "\n",
    "* **map():** Applies a function to every element of an iterable and returns a new iterable with the results. It's useful for transforming elements.\n",
    "* **reduce():** Applies a function to the elements of an iterable cumulatively, reducing the iterable to a single value. It's useful for aggregating elements.\n",
    "* **filter():** Filters elements from an iterable based on a given condition or function and returns a new iterable with the filtered elements. It's useful for selecting elements that meet specific criteria.\n",
    "\n",
    "**Example:**\n",
    "\n",
    "```python\n",
    "numbers = [1, 2, 3, 4, 5]\n",
    "\n",
    "# map(): Square each number\n",
    "squared_numbers = map(lambda x: x**2, numbers)\n",
    "\n",
    "# reduce(): Find the sum of the numbers\n",
    "total = reduce(lambda x, y: x + y, numbers)\n",
    "\n",
    "# filter(): Select even numbers\n",
    "even_numbers = filter(lambda x: x % 2 == 0, numbers)\n",
    "```\n"
   ]
  },
  {
   "cell_type": "code",
   "execution_count": 39,
   "id": "a579689b-c5c1-490d-8d22-a58a6032f442",
   "metadata": {},
   "outputs": [],
   "source": [
    "#practical question"
   ]
  },
  {
   "cell_type": "code",
   "execution_count": 2,
   "id": "c4f87f66-fbe2-481d-9622-87a65b42c372",
   "metadata": {},
   "outputs": [],
   "source": [
    "#1>Write a Python function that takes a list of numbers as input and returns the sum of all even numbers in the list."
   ]
  },
  {
   "cell_type": "code",
   "execution_count": 18,
   "id": "595dbef4-2654-4e25-8cd7-aa9642338f48",
   "metadata": {},
   "outputs": [],
   "source": [
    "def sum_even(n):\n",
    "    a=[]\n",
    "    for i in range(n+1):\n",
    "        if i%2==0:\n",
    "            a.append(i)\n",
    "    return sum(a)            "
   ]
  },
  {
   "cell_type": "code",
   "execution_count": 20,
   "id": "de0a4129-8d68-4b8f-a169-f78b95741fdf",
   "metadata": {},
   "outputs": [
    {
     "data": {
      "text/plain": [
       "30"
      ]
     },
     "execution_count": 20,
     "metadata": {},
     "output_type": "execute_result"
    }
   ],
   "source": [
    "sum_even(10)"
   ]
  },
  {
   "cell_type": "code",
   "execution_count": 21,
   "id": "1e11888c-47e1-4880-85f7-ba7749c12e93",
   "metadata": {},
   "outputs": [],
   "source": [
    "#2.Create a python function that accept a string and return reverse of that string"
   ]
  },
  {
   "cell_type": "code",
   "execution_count": 42,
   "id": "b82c3250-7f34-4699-b481-be3c2ca214da",
   "metadata": {},
   "outputs": [],
   "source": [
    "def reverse_str(n):\n",
    "    return(n[::-1])"
   ]
  },
  {
   "cell_type": "code",
   "execution_count": 43,
   "id": "1ec2836c-3641-4049-a779-2b46d13ab7a3",
   "metadata": {},
   "outputs": [
    {
     "data": {
      "text/plain": [
       "'dlrow olleH'"
      ]
     },
     "execution_count": 43,
     "metadata": {},
     "output_type": "execute_result"
    }
   ],
   "source": [
    "reverse_str(\"Hello world\")"
   ]
  },
  {
   "cell_type": "code",
   "execution_count": null,
   "id": "35d22e31-6304-4a06-ab48-feba64a42a2f",
   "metadata": {},
   "outputs": [],
   "source": [
    "##3.Implement a Python function that takes a list of integers and returns a new list containing the squares of \n",
    "##each number."
   ]
  },
  {
   "cell_type": "code",
   "execution_count": 63,
   "id": "81bc6c89-7ae8-49b3-b327-35aac23f91cf",
   "metadata": {},
   "outputs": [],
   "source": [
    "def func(a):\n",
    "    n = []\n",
    "    for i in a:\n",
    "        if type(i) == int:  \n",
    "            n.append(i)\n",
    "    return sum(n)  "
   ]
  },
  {
   "cell_type": "code",
   "execution_count": 69,
   "id": "083fd648-4332-4e44-83a7-c7eaf8b4d37f",
   "metadata": {},
   "outputs": [
    {
     "data": {
      "text/plain": [
       "6"
      ]
     },
     "execution_count": 69,
     "metadata": {},
     "output_type": "execute_result"
    }
   ],
   "source": [
    "func([\"mom\",\"dad\",1,2,3])"
   ]
  },
  {
   "cell_type": "code",
   "execution_count": 70,
   "id": "e68f4c6e-7616-4b2b-97d5-84ccd46514a6",
   "metadata": {},
   "outputs": [],
   "source": [
    "##4.Write a Python function that checks if a given number is prime or not from 1 to 200."
   ]
  },
  {
   "cell_type": "code",
   "execution_count": 15,
   "id": "2238d09b-8010-46ad-98e6-d5f704a521ba",
   "metadata": {},
   "outputs": [
    {
     "name": "stdout",
     "output_type": "stream",
     "text": [
      "[2, 3, 5, 7, 11, 13, 17, 19, 23, 29, 31, 37, 41, 43, 47, 53, 59, 61, 67, 71, 73, 79, 83, 89, 97, 101, 103, 107, 109, 113, 127, 131, 137, 139, 149, 151, 157, 163, 167, 173, 179, 181, 191, 193, 197, 199]\n"
     ]
    }
   ],
   "source": [
    "def func(a):\n",
    "    primes = []  \n",
    "    for num in range(1, a + 1): \n",
    "        n = []  \n",
    "        for i in range(1, num + 1): \n",
    "            if num % i == 0:\n",
    "                n.append(i)\n",
    "        if len(n) == 2:  \n",
    "            primes.append(num)  \n",
    "    return primes\n",
    "\n",
    "\n",
    "prime_numbers = func(200)\n",
    "print(prime_numbers)\n",
    "\n"
   ]
  },
  {
   "cell_type": "code",
   "execution_count": 1,
   "id": "6deff975-08ca-4018-9736-369a2ae3c0f8",
   "metadata": {},
   "outputs": [],
   "source": [
    "##5.Create an iterator class in Python that generates the Fibonacci sequence up to a specified number of terms."
   ]
  },
  {
   "cell_type": "code",
   "execution_count": 2,
   "id": "993519d0-dc83-4d10-8705-c52d04427514",
   "metadata": {},
   "outputs": [],
   "source": [
    "def fib(n):\n",
    "    a=0\n",
    "    b=1\n",
    "    for i in range (n):\n",
    "        yield a\n",
    "        a,b=b,a+b"
   ]
  },
  {
   "cell_type": "code",
   "execution_count": 4,
   "id": "ad858cfa-c1c3-4f11-8f50-9f9ea2a4740a",
   "metadata": {},
   "outputs": [],
   "source": [
    "f=fib(10000000)"
   ]
  },
  {
   "cell_type": "code",
   "execution_count": 5,
   "id": "0e65ec8c-b636-47dc-a431-baa69c09cd9e",
   "metadata": {},
   "outputs": [
    {
     "data": {
      "text/plain": [
       "0"
      ]
     },
     "execution_count": 5,
     "metadata": {},
     "output_type": "execute_result"
    }
   ],
   "source": [
    "next(f)"
   ]
  },
  {
   "cell_type": "code",
   "execution_count": 1,
   "id": "f2d01c82-13d8-4173-8136-7d1ba91467fc",
   "metadata": {},
   "outputs": [],
   "source": [
    "##6.Write a generator function in Python that yields the powers of 2 up to a given exponent."
   ]
  },
  {
   "cell_type": "code",
   "execution_count": 10,
   "id": "1ec38e03-fcb3-4596-9113-36f560d4107f",
   "metadata": {},
   "outputs": [],
   "source": [
    "def square_number(n):\n",
    "    for i in range(n):\n",
    "        yield i**2\n",
    "    square_number(10)"
   ]
  },
  {
   "cell_type": "code",
   "execution_count": 11,
   "id": "f1ae5781-a36f-44d1-833e-98d83adfc397",
   "metadata": {},
   "outputs": [
    {
     "data": {
      "text/plain": [
       "<generator object square_number at 0x7eafc8163610>"
      ]
     },
     "execution_count": 11,
     "metadata": {},
     "output_type": "execute_result"
    }
   ],
   "source": [
    "gen=square_number(10)\n",
    "gen"
   ]
  },
  {
   "cell_type": "code",
   "execution_count": 12,
   "id": "c7a198c5-045d-4248-8085-85314100b6dd",
   "metadata": {},
   "outputs": [
    {
     "data": {
      "text/plain": [
       "0"
      ]
     },
     "execution_count": 12,
     "metadata": {},
     "output_type": "execute_result"
    }
   ],
   "source": [
    "next(gen)"
   ]
  },
  {
   "cell_type": "code",
   "execution_count": 13,
   "id": "49584e8f-ccd1-4bd4-ae42-5682aec5770f",
   "metadata": {},
   "outputs": [
    {
     "data": {
      "text/plain": [
       "1"
      ]
     },
     "execution_count": 13,
     "metadata": {},
     "output_type": "execute_result"
    }
   ],
   "source": [
    "next(gen)"
   ]
  },
  {
   "cell_type": "code",
   "execution_count": 14,
   "id": "2d59a2d2-ee7f-452c-8dc3-b139672069df",
   "metadata": {},
   "outputs": [
    {
     "data": {
      "text/plain": [
       "4"
      ]
     },
     "execution_count": 14,
     "metadata": {},
     "output_type": "execute_result"
    }
   ],
   "source": [
    "next(gen)"
   ]
  },
  {
   "cell_type": "code",
   "execution_count": 15,
   "id": "f8f9d1ff-d072-438a-bceb-366b5fa4ddaf",
   "metadata": {},
   "outputs": [
    {
     "data": {
      "text/plain": [
       "9"
      ]
     },
     "execution_count": 15,
     "metadata": {},
     "output_type": "execute_result"
    }
   ],
   "source": [
    "next(gen)"
   ]
  },
  {
   "cell_type": "code",
   "execution_count": 16,
   "id": "7ba0209d-3543-4242-993f-94f9c86b3993",
   "metadata": {},
   "outputs": [
    {
     "data": {
      "text/plain": [
       "16"
      ]
     },
     "execution_count": 16,
     "metadata": {},
     "output_type": "execute_result"
    }
   ],
   "source": [
    "next(gen)"
   ]
  },
  {
   "cell_type": "code",
   "execution_count": 17,
   "id": "69593214-777b-4f65-86ec-0321d23bc74f",
   "metadata": {},
   "outputs": [
    {
     "data": {
      "text/plain": [
       "25"
      ]
     },
     "execution_count": 17,
     "metadata": {},
     "output_type": "execute_result"
    }
   ],
   "source": [
    "next(gen)"
   ]
  },
  {
   "cell_type": "code",
   "execution_count": 18,
   "id": "49ca1f3d-54ad-4c36-8707-5b95090cf479",
   "metadata": {},
   "outputs": [
    {
     "data": {
      "text/plain": [
       "36"
      ]
     },
     "execution_count": 18,
     "metadata": {},
     "output_type": "execute_result"
    }
   ],
   "source": [
    "next(gen)"
   ]
  },
  {
   "cell_type": "code",
   "execution_count": 19,
   "id": "e45adb8a-c604-44e3-88f4-1ab319e0c95d",
   "metadata": {},
   "outputs": [],
   "source": [
    "#7. Implement a generator function that reads a file line by line and yields each line as a string."
   ]
  },
  {
   "cell_type": "code",
   "execution_count": 25,
   "id": "014f8355-eb0a-4c0e-bfb0-b8a51b984c63",
   "metadata": {},
   "outputs": [],
   "source": [
    "def read_file(file_path):\n",
    "    with open (file_path,'r')as file:\n",
    "        for line in file:\n",
    "            yield line.strip()"
   ]
  },
  {
   "cell_type": "code",
   "execution_count": 26,
   "id": "1072a8fd-684a-4360-95ec-3e27d62df111",
   "metadata": {},
   "outputs": [
    {
     "name": "stdout",
     "output_type": "stream",
     "text": [
      "hello sir ,\n",
      "this is my line path program\n"
     ]
    }
   ],
   "source": [
    "for line in read_file('example.txt'):\n",
    "    print(line)"
   ]
  },
  {
   "cell_type": "code",
   "execution_count": 27,
   "id": "dbd26f37-524e-4e69-a814-fbc813b406fe",
   "metadata": {},
   "outputs": [],
   "source": [
    "#8. Use a lambda function in Python to sort a list of tuples based on the second element of each tuple."
   ]
  },
  {
   "cell_type": "code",
   "execution_count": 30,
   "id": "f671454b-6973-480f-ac84-25c42bf1772d",
   "metadata": {},
   "outputs": [
    {
     "name": "stdout",
     "output_type": "stream",
     "text": [
      "[(4, 1), (5, 2), (1, 3), (2, 4)]\n"
     ]
    }
   ],
   "source": [
    "tuples_list = [(1, 3), (4, 1), (5, 2), (2, 4)]\n",
    "sorted_list = sorted(tuples_list, key=lambda x: x[1])\n",
    "print(sorted_list)"
   ]
  },
  {
   "cell_type": "code",
   "execution_count": null,
   "id": "d835096e-1147-4345-b587-c03fe072d668",
   "metadata": {},
   "outputs": [],
   "source": [
    "#9.Write a Python program that uses `map()` to convert a list of temperatures from Celsius to Fahrenheit."
   ]
  },
  {
   "cell_type": "code",
   "execution_count": 33,
   "id": "9b1d41bb-2318-40de-b217-d332a9e6fa20",
   "metadata": {
    "tags": []
   },
   "outputs": [
    {
     "name": "stdout",
     "output_type": "stream",
     "text": [
      "[32.0, 68.0, 98.6, 212.0]\n"
     ]
    }
   ],
   "source": [
    "celsius_temps = [0, 20, 37, 100]\n",
    "fahrenheit_temps = map(lambda c: (c * 9/5) + 32, celsius_temps)\n",
    "print(list(fahrenheit_temps))"
   ]
  },
  {
   "cell_type": "code",
   "execution_count": 35,
   "id": "f2deb3fb-26b4-4e05-8641-137f6864c29f",
   "metadata": {},
   "outputs": [],
   "source": [
    "#10. Create a Python program that uses `filter()` to remove all the vowels from a given string."
   ]
  },
  {
   "cell_type": "code",
   "execution_count": 36,
   "id": "bcce0dbb-73f0-47c0-bcdc-2af73afc0189",
   "metadata": {},
   "outputs": [
    {
     "name": "stdout",
     "output_type": "stream",
     "text": [
      "Hll, Wrld!\n"
     ]
    }
   ],
   "source": [
    "def is_not_vowel(char):\n",
    "    vowels = 'aeiouAEIOU' \n",
    "    return char not in vowels\n",
    "input_string = \"Hello, World!\"\n",
    "result = filter(is_not_vowel, input_string)\n",
    "print(''.join(result))"
   ]
  },
  {
   "cell_type": "code",
   "execution_count": null,
   "id": "6b47bac9-bb93-43fb-8739-08f1bc4581c2",
   "metadata": {},
   "outputs": [],
   "source": []
  },
  {
   "cell_type": "code",
   "execution_count": null,
   "id": "1435d64a-8d9e-44c2-9832-3345209e2729",
   "metadata": {},
   "outputs": [],
   "source": []
  }
 ],
 "metadata": {
  "kernelspec": {
   "display_name": "Python 3 (ipykernel)",
   "language": "python",
   "name": "python3"
  },
  "language_info": {
   "codemirror_mode": {
    "name": "ipython",
    "version": 3
   },
   "file_extension": ".py",
   "mimetype": "text/x-python",
   "name": "python",
   "nbconvert_exporter": "python",
   "pygments_lexer": "ipython3",
   "version": "3.10.8"
  }
 },
 "nbformat": 4,
 "nbformat_minor": 5
}
