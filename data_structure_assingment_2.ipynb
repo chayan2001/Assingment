{
 "cells": [
  {
   "cell_type": "markdown",
   "id": "56a04297-f548-4e5c-a151-25bfc1836b3a",
   "metadata": {},
   "source": [
    "i.Discuss string slicing and provide examples ?"
   ]
  },
  {
   "cell_type": "markdown",
   "id": "5c5339ae-83ed-4ec8-be57-9685ebb4c4f2",
   "metadata": {},
   "source": [
    "ans. String slicing in Python is a technique used to extract a portion of a string based on specified indices. The syntax \n",
    "    for slicing is string[start:stop:step], where:\n",
    "\n",
    "start: the starting index (inclusive).\n",
    "stop: the ending index (exclusive).\n",
    "step: the number of steps to skip between characters.\n",
    "If any of these are omitted, defaults are used: start is 0, stop is the length of the string, and step is 1.\n",
    "\n",
    "text = \"Hello, World!\"\n",
    "print(text[0:5])     # Output: 'Hello'\n",
    "print(text[7:12])    # Output: 'World'\n",
    "print(text[-6:-1])   # Output: 'World'\n",
    "print(text[::2])     # Output: 'Hlo ol!'\n",
    "print(text[::-1])    # Output: '!dlroW ,olleH' (reverses the string)\n",
    "\n",
    "String slicing is a powerful way to manipulate strings, allowing for easy extraction, reversal, and other modifications."
   ]
  },
  {
   "cell_type": "markdown",
   "id": "6124acfb-4e38-44b2-a6e9-e948fbd99208",
   "metadata": {},
   "source": [
    "ii.Explain the key features or lists in Python"
   ]
  },
  {
   "cell_type": "markdown",
   "id": "b1cbf924-e0af-4724-8663-fb835753c4db",
   "metadata": {},
   "source": [
    "ans. In Python, lists are versatile, ordered collections that allow you to store and manipulate multiple items in a single variable. Key features of Python lists include:\n",
    "\n",
    "1. **Ordered**: Items in a list maintain their order, meaning the position of elements is preserved.\n",
    "  \n",
    "2. **Mutable**: Lists can be modified after creation, allowing you to add, remove, or change elements.\n",
    "\n",
    "3. **Heterogeneous**: A list can contain different data types, such as integers, strings, and even other lists.\n",
    "\n",
    "4. **Indexing and Slicing**: Lists support indexing (accessing elements by position) and slicing (retrieving a sub-list).\n",
    "\n",
    "5. **Dynamic Size**: Lists can grow or shrink as you add or remove elements.\n",
    "\n",
    "6. **Comprehensive Functions**: Python provides numerous built-in functions and methods, such as `append()`, `pop()`, `sort()`, and list comprehensions, to perform operations on lists easily. \n",
    "\n",
    "These features make lists a powerful tool for data management in Python."
   ]
  },
  {
   "cell_type": "markdown",
   "id": "62386fa2-37aa-405b-8fe9-b36ee38bad93",
   "metadata": {},
   "source": [
    "iii.Describe how to access modify and delete elements in a list with examples"
   ]
  },
  {
   "cell_type": "markdown",
   "id": "614b0d67-5962-4482-bee6-e3bd5f45d23b",
   "metadata": {},
   "source": [
    "ans.In Python, lists are versatile, allowing easy access, modification, and deletion of elements.\n",
    "\n",
    "**Access Elements**: Use the index, starting from 0. For example:\n",
    "```python\n",
    "my_list = [10, 20, 30, 40]\n",
    "print(my_list[1])  # Output: 20\n",
    "```\n",
    "\n",
    "**Modify Elements**: Assign a new value to the desired index.\n",
    "```python\n",
    "my_list[2] = 35\n",
    "print(my_list)  # Output: [10, 20, 35, 40]\n",
    "```\n",
    "\n",
    "**Delete Elements**: Use `del`, `remove()`, or `pop()`.\n",
    "\n",
    "1. **del**: Removes an element by index.\n",
    "   ```python\n",
    "   del my_list[1]\n",
    "   print(my_list)  # Output: [10, 35, 40]\n",
    "   ```\n",
    "\n",
    "2. **remove()**: Deletes the first occurrence of a value.\n",
    "   ```python\n",
    "   my_list.remove(35)\n",
    "   print(my_list)  # Output: [10, 40]\n",
    "   ```\n",
    "\n",
    "3. **pop()**: Removes and returns an element by index (default is the last element).\n",
    "   ```python\n",
    "   my_list.pop()\n",
    "   print(my_list)  # Output: [10]\n",
    "   ```"
   ]
  },
  {
   "cell_type": "markdown",
   "id": "a91b21e3-d7ba-45d8-a88f-4220dee16371",
   "metadata": {},
   "source": [
    "iv.Compare and contrast tuples and lists with examples"
   ]
  },
  {
   "cell_type": "markdown",
   "id": "2ee689db-8bd3-42b0-86b9-cb11039e854f",
   "metadata": {},
   "source": [
    "ans.**Tuples** and **lists** are both sequence types in Python but differ in key ways:\n",
    "\n",
    "1. **Mutability**:\n",
    "   - **Lists** are mutable, meaning their elements can be changed after creation.\n",
    "     ```python\n",
    "     my_list = [1, 2, 3]\n",
    "     my_list[1] = 4\n",
    "     print(my_list)  # Output: [1, 4, 3]\n",
    "     ```\n",
    "   - **Tuples** are immutable, so once created, their elements cannot be modified.\n",
    "     ```python\n",
    "     my_tuple = (1, 2, 3)\n",
    "     # my_tuple[1] = 4  # This would raise a TypeError\n",
    "     ```\n",
    "\n",
    "2. **Syntax**:\n",
    "   - **Lists** are defined with square brackets `[]`.\n",
    "   - **Tuples** use parentheses `()`.\n",
    "\n",
    "3. **Usage**:\n",
    "   - **Lists** are ideal when you need a collection that may change over time.\n",
    "   - **Tuples** are used for fixed collections of items, such as coordinates or returning multiple values from a function.\n",
    "\n",
    "4. **Performance**:\n",
    "   - **Tuples** are generally faster than lists due to their immutability.\n",
    "\n",
    "**Example**:\n",
    "```python\n",
    "my_list = [1, 2, 3]\n",
    "my_tuple = (1, 2, 3)\n",
    "```"
   ]
  },
  {
   "cell_type": "markdown",
   "id": "8cbff577-abd8-429d-b4c4-555405321c35",
   "metadata": {},
   "source": [
    "v.Describe the key features or sets and provide examples or their use"
   ]
  },
  {
   "cell_type": "markdown",
   "id": "87750d56-3c66-408f-b4e9-c27959459461",
   "metadata": {},
   "source": [
    "ans.**Sets** in Python are unordered collections of unique elements. They offer several key features:\n",
    "\n",
    "1. **Uniqueness**: Sets automatically eliminate duplicate values.\n",
    "   ```python\n",
    "   my_set = {1, 2, 2, 3}\n",
    "   print(my_set)  # Output: {1, 2, 3}\n",
    "   ```\n",
    "\n",
    "2. **Unordered**: Sets do not maintain any order of elements, meaning you cannot access elements via an index.\n",
    "   ```python\n",
    "   my_set = {3, 1, 2}\n",
    "   # print(my_set[0])  # This would raise a TypeError\n",
    "   ```\n",
    "\n",
    "3. **Mutable**: Sets can be modified by adding or removing elements, but the elements themselves must be immutable (e.g., numbers, strings, tuples).\n",
    "   ```python\n",
    "   my_set.add(4)\n",
    "   print(my_set)  # Output: {1, 2, 3, 4}\n",
    "   ```\n",
    "\n",
    "4. **Set Operations**: Sets support mathematical operations like union, intersection, difference, and symmetric difference.\n",
    "   ```python\n",
    "   set1 = {1, 2, 3}\n",
    "   set2 = {3, 4, 5}\n",
    "   print(set1 & set2)  # Intersection: {3}\n",
    "   print(set1 | set2)  # Union: {1, 2, 3, 4, 5}\n",
    "   ```\n",
    "\n",
    "**Example**: Sets are useful for filtering out duplicates, testing membership, and performing set algebra."
   ]
  },
  {
   "cell_type": "markdown",
   "id": "aabf0014-7333-44d0-a37e-89663e78aa0e",
   "metadata": {},
   "source": [
    "vi.Descr\u0015be the key features or sets and provide examples or their use. "
   ]
  },
  {
   "cell_type": "markdown",
   "id": "5f8de4f5-5af5-4577-9c23-fd2337a9817a",
   "metadata": {},
   "source": [
    "**Sets** in Python are unordered collections of unique elements, designed for fast membership testing and set operations. Key features include:\n",
    "\n",
    "1. **Uniqueness**: Sets automatically remove duplicates, ensuring all elements are unique.\n",
    "   ```python\n",
    "   my_set = {1, 2, 2, 3}\n",
    "   print(my_set)  # Output: {1, 2, 3}\n",
    "   ```\n",
    "\n",
    "2. **Unordered**: Sets do not maintain a specific order, and elements cannot be accessed by index.\n",
    "   ```python\n",
    "   my_set = {3, 1, 2}\n",
    "   # print(my_set[0])  # Raises TypeError, no indexing\n",
    "   ```\n",
    "\n",
    "3. **Mutable**: You can add or remove elements from a set using methods like `add()` or `remove()`.\n",
    "   ```python\n",
    "   my_set.add(4)\n",
    "   print(my_set)  # Output: {1, 2, 3, 4}\n",
    "   ```\n",
    "\n",
    "4. **Set Operations**: Sets allow efficient operations like union, intersection, and difference.\n",
    "   ```python\n",
    "   set1 = {1, 2, 3}\n",
    "   set2 = {3, 4, 5}\n",
    "   print(set1 & set2)  # Intersection: {3}\n",
    "   print(set1 | set2)  # Union: {1, 2, 3, 4, 5}\n",
    "   ```\n",
    "\n",
    "**Use Case**: Sets are ideal for filtering duplicates, comparing data, and performing set-theory operations."
   ]
  },
  {
   "cell_type": "markdown",
   "id": "4964472b-3ec0-473a-be7a-026d260f37a5",
   "metadata": {},
   "source": [
    "vi.Discuss the use cases or tuples and sets \u0015n Python programming."
   ]
  },
  {
   "cell_type": "markdown",
   "id": "50a559fd-4bf5-4e98-a96b-62ba8e31e54e",
   "metadata": {},
   "source": [
    "**Tuples** and **sets** serve distinct purposes in Python due to their unique characteristics.\n",
    "\n",
    "### Use Cases for **Tuples**:\n",
    "1. **Immutable Data**: Tuples are used when data should not be changed, such as storing fixed configurations, coordinates, or constants.\n",
    "   ```python\n",
    "   coordinates = (10, 20)\n",
    "   ```\n",
    "2. **Function Returns**: Tuples are useful for returning multiple values from a function.\n",
    "   ```python\n",
    "   def get_data():\n",
    "       return (1, \"name\", True)\n",
    "   ```\n",
    "\n",
    "3. **Dictionary Keys**: Tuples, being hashable, can be used as dictionary keys, unlike lists.\n",
    "   ```python\n",
    "   my_dict = {(1, 2): \"value\"}\n",
    "   ```\n",
    "\n",
    "### Use Cases for **Sets**:\n",
    "1. **Unique Data**: Sets are ideal for collections where uniqueness is important, such as removing duplicates from a list.\n",
    "   ```python\n",
    "   unique_items = set([1, 2, 2, 3])\n",
    "   ```\n",
    "\n",
    "2. **Set Operations**: They allow easy union, intersection, and difference calculations for tasks like data comparison.\n",
    "   ```python\n",
    "   set1 = {1, 2, 3}\n",
    "   set2 = {3, 4, 5}\n",
    "   common = set1 & set2\n",
    "   ```\n",
    "\n",
    "Both are valuable for specific use cases involving immutability or uniqueness."
   ]
  },
  {
   "cell_type": "markdown",
   "id": "e99f668b-e1b5-45a6-bbc6-0995205e61cd",
   "metadata": {},
   "source": [
    "vii.Describe how to add modify and delete items on a dictionary with examples"
   ]
  },
  {
   "cell_type": "markdown",
   "id": "7023d10f-b3de-495f-a3ce-ddbec31bbf38",
   "metadata": {},
   "source": [
    "ans.In Python, dictionaries store data in key-value pairs. You can easily add, modify, and delete items in a dictionary.\n",
    "\n",
    "### **Add Items**:\n",
    "To add a new key-value pair, simply assign a value to a new key.\n",
    "```python\n",
    "my_dict = {'name': 'John', 'age': 25}\n",
    "my_dict['city'] = 'New York'\n",
    "print(my_dict)  # Output: {'name': 'John', 'age': 25, 'city': 'New York'}\n",
    "```\n",
    "\n",
    "### **Modify Items**:\n",
    "To modify an existing value, assign a new value to an existing key.\n",
    "```python\n",
    "my_dict['age'] = 26\n",
    "print(my_dict)  # Output: {'name': 'John', 'age': 26, 'city': 'New York'}\n",
    "```\n",
    "\n",
    "### **Delete Items**:\n",
    "You can remove items using `del`, `pop()`, or `popitem()`.\n",
    "\n",
    "1. **del**: Removes an item by key.\n",
    "   ```python\n",
    "   del my_dict['city']\n",
    "   print(my_dict)  # Output: {'name': 'John', 'age': 26}\n",
    "   ```\n",
    "\n",
    "2. **pop()**: Removes an item and returns its value.\n",
    "   ```python\n",
    "   age = my_dict.pop('age')\n",
    "   print(age)  # Output: 26\n",
    "   ```\n",
    "\n",
    "3. **popitem()**: Removes and returns the last inserted key-value pair.\n",
    "   ```python\n",
    "   print(my_dict.popitem())  # Output: ('name', 'John')\n",
    "   ```"
   ]
  },
  {
   "cell_type": "markdown",
   "id": "7094d9fc-2c0d-48cc-9fa7-e9e1037341d2",
   "metadata": {},
   "source": [
    "viii.Discuss the importance of dictionary keys being immutable and provide example"
   ]
  },
  {
   "cell_type": "code",
   "execution_count": null,
   "id": "b28e6331-e82b-4e32-a558-22d431585a40",
   "metadata": {},
   "outputs": [],
   "source": [
    "ans.In Python, dictionary keys must be **immutable** to ensure their **hashability**. This allows Python to quickly locate and retrieve values based on keys using a hash table. Immutable types like strings, numbers, and tuples can be used as keys because their values do not change. If a key could change, the dictionary’s internal structure would break, causing retrieval issues.\n",
    "\n",
    "For example:\n",
    "```python\n",
    "my_dict = {(1, 2): 'coordinates'}  # Tuple as a key (immutable)\n",
    "# my_dict[[1, 2]] = 'coordinates'  # Raises TypeError, list is mutable\n",
    "```\n",
    "This ensures consistent performance and reliability when accessing dictionary values."
   ]
  }
 ],
 "metadata": {
  "kernelspec": {
   "display_name": "Python 3 (ipykernel)",
   "language": "python",
   "name": "python3"
  },
  "language_info": {
   "codemirror_mode": {
    "name": "ipython",
    "version": 3
   },
   "file_extension": ".py",
   "mimetype": "text/x-python",
   "name": "python",
   "nbconvert_exporter": "python",
   "pygments_lexer": "ipython3",
   "version": "3.10.8"
  }
 },
 "nbformat": 4,
 "nbformat_minor": 5
}
