{
  "nbformat": 4,
  "nbformat_minor": 0,
  "metadata": {
    "colab": {
      "provenance": []
    },
    "kernelspec": {
      "name": "python3",
      "display_name": "Python 3"
    },
    "language_info": {
      "name": "python"
    }
  },
  "cells": [
    {
      "cell_type": "code",
      "execution_count": 1,
      "metadata": {
        "colab": {
          "base_uri": "https://localhost:8080/",
          "height": 140
        },
        "id": "tq6lK1Cs269v",
        "outputId": "eff1597f-0ef6-408b-95f5-f00d364329af"
      },
      "outputs": [
        {
          "output_type": "execute_result",
          "data": {
            "text/plain": [
              "'\\nq1.\\nHere are three different methods for creating identical 2D arrays in NumPy:\\n\\n### Method 1: Using `np.array()`\\nYou can create a 2D array by passing a list of lists directly to the `np.array()` function.\\n\\n```python\\nimport numpy as np\\n\\n# Method 1: Using np.array()\\narray1 = np.array([[1, 2, 3], [4, 5, 6]])\\n\\nprint(\"Array using np.array():\")\\nprint(array1)\\n```\\n\\n### Method 2: Using `np.zeros()` and assigning values\\nYou can create a 2D array of zeros and then assign values manually.\\n\\n```python\\n# Method 2: Using np.zeros() and assigning values\\narray2 = np.zeros((2, 3), dtype=int)\\narray2[0] = [1, 2, 3]\\narray2[1] = [4, 5, 6]\\n\\nprint(\"\\nArray using np.zeros() and manual assignment:\")\\nprint(array2)\\n```\\n\\n### Method 3: Using `np.full()` with a predefined structure\\nYou can use `np.full()` to fill an array with predefined values.\\n\\n```python\\n# Method 3: Using np.full() and specifying values manually\\narray3 = np.full((2, 3), 0)\\narray3[0] = [1, 2, 3]\\narray3[1] = [4, 5, 6]\\n\\nprint(\"\\nArray using np.full():\")\\nprint(array3)\\n```\\n\\n### Output for each method:\\n\\n```\\nArray using np.array():\\n[[1 2 3]\\n [4 5 6]]\\n\\nArray using np.zeros() and manual assignment:\\n[[1 2 3]\\n [4 5 6]]\\n\\nArray using np.full():\\n[[1 2 3]\\n [4 5 6]]\\n```\\n\\nAll three methods will generate identical 2D arrays.\\n'"
            ],
            "application/vnd.google.colaboratory.intrinsic+json": {
              "type": "string"
            }
          },
          "metadata": {},
          "execution_count": 1
        }
      ],
      "source": []
    },
    {
      "cell_type": "code",
      "source": [],
      "metadata": {
        "colab": {
          "base_uri": "https://localhost:8080/",
          "height": 140
        },
        "id": "sJgiraVy3HjD",
        "outputId": "36fa109e-f2af-40eb-e7c2-59c34726ef1c"
      },
      "execution_count": 2,
      "outputs": [
        {
          "output_type": "execute_result",
          "data": {
            "text/plain": [
              "'\\nq2.\\nTo generate an array of evenly spaced numbers between two values (`w` and `wR`) and then reshape that array into a 2D array, you can use the following steps in NumPy:\\n\\n1. Use the `np.linspace()` function to generate `numPers` evenly spaced numbers between `w` and `wR`.\\n2. Use the `reshape()` function to reshape the resulting 1D array into a 2D array.\\n\\nHere’s the code to demonstrate this process:\\n\\n```python\\nimport numpy as np\\n\\n# Define your variables\\nw = 0        # Starting point\\nwR = 10      # Ending point\\nnumPers = 12 # Total number of elements\\nrows = 3     # Number of rows in the 2D array\\ncols = 4     # Number of columns in the 2D array\\n\\n# Step 1: Generate 1D array with evenly spaced numbers\\narray_1d = np.linspace(w, wR, numPers)\\n\\n# Step 2: Reshape the 1D array into a 2D array\\narray_2d = array_1d.reshape(rows, cols)\\n\\nprint(\"1D array:\")\\nprint(array_1d)\\n\\nprint(\"\\nReshaped 2D array:\")\\nprint(array_2d)\\n```\\n\\n### Output:\\n```\\n1D array:\\n[ 0.          0.90909091  1.81818182  2.72727273  3.63636364  4.54545455\\n  5.45454545  6.36363636  7.27272727  8.18181818  9.09090909 10.        ]\\n\\nReshaped 2D array:\\n[[ 0.          0.90909091  1.81818182  2.72727273]\\n [ 3.63636364  4.54545455  5.45454545  6.36363636]\\n [ 7.27272727  8.18181818  9.09090909 10.        ]]\\n```\\n\\nThis code generates an array of 12 evenly spaced numbers between `0` and `10`, then reshapes it into a 3x4 2D array. Adjust the `w`, `wR`, `numPers`, `rows`, and `cols` as needed for different results.\\n'"
            ],
            "application/vnd.google.colaboratory.intrinsic+json": {
              "type": "string"
            }
          },
          "metadata": {},
          "execution_count": 2
        }
      ]
    },
    {
      "cell_type": "code",
      "source": [],
      "metadata": {
        "colab": {
          "base_uri": "https://localhost:8080/",
          "height": 140
        },
        "id": "0bYmLk3w3fDe",
        "outputId": "e31d677a-a936-428b-c553-1bae2044d175"
      },
      "execution_count": 3,
      "outputs": [
        {
          "output_type": "execute_result",
          "data": {
            "text/plain": [
              "'\\nq3.\\n### 1. Differences between `np.array()`, `np.asarray()`, and `np.asanyarray()`:\\n\\n#### **`np.array()`**:\\n- **Creates a new array object** by copying the input data, even if the input is already an array.\\n- Ensures that the returned object is a `numpy.ndarray`.\\n- It will make a copy of the input data if needed.\\n\\n```python\\nimport numpy as np\\n\\nlist_data = [1, 2, 3]\\narray1 = np.array(list_data)  # Creates a new array from the list\\n\\nprint(array1)  # Output: [1 2 3]\\n```\\n\\n#### **`np.asarray()`**:\\n- **Converts input data to an array**, but **won’t copy the data** if the input is already an array-like object (e.g., a `numpy` array). \\n- This is more efficient when working with large arrays that don\\'t need to be copied.\\n\\n```python\\narray2 = np.asarray(array1)  # No copy, returns the same array object\\nprint(array2 is array1)  # Output: True (no new array is created)\\n```\\n\\n#### **`np.asanyarray()`**:\\n- Similar to `np.asarray()`, but it **allows subtypes of arrays** (e.g., `matrix` or other subclasses of `ndarray`) to be returned without converting them to base `ndarray`.\\n- If you pass in a subclass of `ndarray`, like `np.matrix`, it will return the same type (e.g., a matrix) instead of converting it to a base array.\\n\\n```python\\nmatrix = np.matrix([[1, 2], [3, 4]])\\narray3 = np.asanyarray(matrix)  # Keeps it as a matrix\\n\\nprint(type(array3))  # Output: <class \\'numpy.matrix\\'>\\n```\\n\\n**Summary**:\\n- **`np.array()`**: Always creates a new array (copies the data).\\n- **`np.asarray()`**: Converts to `ndarray`, does not copy if input is already an array.\\n- **`np.asanyarray()`**: Similar to `np.asarray()`, but preserves array subclasses like `np.matrix`.\\n\\n---\\n\\n### 2. Difference Between Deep Copy and Shallow Copy:\\n\\n#### **Shallow Copy**:\\n- A shallow copy **copies only the reference** to the original object. This means changes in the copied object may affect the original object, especially for nested data structures.\\n- In NumPy, `shallow copy` can be created using the `.view()` method.\\n\\n```python\\nimport numpy as np\\n\\noriginal = np.array([1, 2, 3])\\nshallow_copy = original.view()\\n\\nshallow_copy[0] = 100\\n\\nprint(\"Original:\", original)  # Output: [100  2  3]\\nprint(\"Shallow Copy:\", shallow_copy)  # Output: [100  2  3]\\n```\\nIn this case, changes to the `shallow_copy` are reflected in the `original` array.\\n\\n#### **Deep Copy**:\\n- A deep copy **creates a completely independent copy** of the original object. Changes in the deep copy do not affect the original object.\\n- In NumPy, a deep copy can be created using the `.copy()` method.\\n\\n```python\\ndeep_copy = original.copy()\\ndeep_copy[0] = 500\\n\\nprint(\"Original:\", original)  # Output: [100  2  3]\\nprint(\"Deep Copy:\", deep_copy)  # Output: [500  2  3]\\n```\\nIn this case, modifying the `deep_copy` does not affect the original array.\\n\\n**Summary**:\\n- **Shallow Copy**: Copies references, changes to one object affect the other.\\n- **Deep Copy**: Creates a new object, changes do not affect the original.\\n'"
            ],
            "application/vnd.google.colaboratory.intrinsic+json": {
              "type": "string"
            }
          },
          "metadata": {},
          "execution_count": 3
        }
      ]
    },
    {
      "cell_type": "code",
      "source": [
        "'''\n",
        "\n",
        "### **1. Demonstrate three different methods for creating identical 2D arrays in NumPy:**\n",
        "\n",
        "```python\n",
        "import numpy as np\n",
        "\n",
        "# Method 1: Using np.full\n",
        "array1 = np.full((3, 3), 7)\n",
        "\n",
        "# Method 2: Using np.ones and multiplication\n",
        "array2 = np.ones((3, 3)) * 7\n",
        "\n",
        "# Method 3: Using np.tile\n",
        "array3 = np.tile(7, (3, 3))\n",
        "\n",
        "print(\"Array 1:\\n\", array1)\n",
        "print(\"\\nArray 2:\\n\", array2)\n",
        "print(\"\\nArray 3:\\n\", array3)\n",
        "```\n",
        "\n",
        "**Output:**\n",
        "\n",
        "All methods will produce the same output:\n",
        "\n",
        "```\n",
        "Array 1:\n",
        " [[7 7 7]\n",
        " [7 7 7]\n",
        " [7 7 7]]\n",
        "\n",
        "Array 2:\n",
        " [[7. 7. 7.]\n",
        " [7. 7. 7.]\n",
        " [7. 7. 7.]]\n",
        "\n",
        "Array 3:\n",
        " [[7 7 7]\n",
        " [7 7 7]\n",
        " [7 7 7]]\n",
        "```\n",
        "\n",
        "---\n",
        "\n",
        "### **2. Using the NumPy function, generate an array of 200 evenly spaced numbers between 0 and 50, and reshape that 1D array into a 2D array:**\n",
        "\n",
        "```python\n",
        "# Generate 200 evenly spaced numbers between 0 and 50\n",
        "arr = np.linspace(0, 50, 200)\n",
        "\n",
        "# Reshape the array into a 2D array of shape (20, 10)\n",
        "reshaped_arr = arr.reshape(20, 10)\n",
        "\n",
        "print(\"Reshaped 2D array:\\n\", reshaped_arr)\n",
        "```\n",
        "\n",
        "---\n",
        "\n",
        "### **3. Explain the following terms:**\n",
        "\n",
        "#### a) **The difference between `np.array`, `np.asarray`, and `np.asanyarray`:**\n",
        "\n",
        "- `np.array`: Always creates a new array, regardless of the input type (even if it's already an array).\n",
        "\n",
        "- `np.asarray`: Converts input to an array, but won’t copy the input if it's already an array.\n",
        "\n",
        "- `np.asanyarray`: Similar to `np.asarray`, but if the input is a subclass of an array (e.g., `matrix`), it preserves the subclass.\n",
        "\n",
        "#### b) **The difference between deep copy and shallow copy:**\n",
        "\n",
        "- **Shallow Copy**: Copies the reference to the memory location, so changes to the original object affect the copy and vice versa.\n",
        "\n",
        "- **Deep Copy**: Creates an entirely new object, copying both the object and any nested objects, so changes to the original object do not affect the copy.\n",
        "\n",
        "---\n",
        "\n",
        "### **4. Generate a 3x3 array with random floating-point numbers between 0 and 20, and round each number to 2 decimal places:**\n",
        "\n",
        "```python\n",
        "# Generate a 3x3 array with random floating-point numbers between 0 and 20\n",
        "random_array = np.random.uniform(0, 20, (3, 3))\n",
        "\n",
        "# Round each number to 2 decimal places\n",
        "rounded_array = np.round(random_array, 2)\n",
        "\n",
        "print(\"Rounded array:\\n\", rounded_array)\n",
        "```\n",
        "\n",
        "---\n",
        "\n",
        "### **5. Create a NumPy array with random integers between 0 and 100 of shape (3, 3), then extract even and odd integers:**\n",
        "\n",
        "```python\n",
        "# Generate a 3x3 array with random integers between 0 and 100\n",
        "int_array = np.random.randint(0, 100, (3, 3))\n",
        "\n",
        "# a) Extract all even integers\n",
        "even_integers = int_array[int_array % 2 == 0]\n",
        "\n",
        "# b) Extract all odd integers\n",
        "odd_integers = int_array[int_array % 2 != 0]\n",
        "\n",
        "print(\"Original array:\\n\", int_array)\n",
        "print(\"\\nEven integers:\\n\", even_integers)\n",
        "print(\"\\nOdd integers:\\n\", odd_integers)\n",
        "```\n",
        "\n",
        "---\n",
        "\n",
        "### **6. Create a 3D NumPy array of shape (3, 3, 3) containing random integers between 0 and 100, then perform operations:**\n",
        "\n",
        "```python\n",
        "# Create a 3D array with random integers\n",
        "array_3d = np.random.randint(0, 100, (3, 3, 3))\n",
        "\n",
        "# a) Find the indices of the maximum values along the third axis\n",
        "max_indices = np.argmax(array_3d, axis=2)\n",
        "\n",
        "# b) Element-wise multiplication between two arrays\n",
        "array1 = np.random.randint(0, 100, (3, 3, 3))\n",
        "array2 = np.random.randint(0, 100, (3, 3, 3))\n",
        "elementwise_product = np.multiply(array1, array2)\n",
        "\n",
        "print(\"3D array:\\n\", array_3d)\n",
        "print(\"\\nIndices of maximum values along the third axis:\\n\", max_indices)\n",
        "print(\"\\nElement-wise multiplication:\\n\", elementwise_product)\n",
        "```\n",
        "\n",
        "---\n",
        "\n",
        "### **7. Clean and transform the 'Phone' column to remove non-numeric characters and convert it to a numeric type:**\n",
        "\n",
        "```python\n",
        "import pandas as pd\n",
        "\n",
        "# Sample DataFrame\n",
        "data = {'Name': ['John', 'Jane'], 'Phone': ['+1-234-567-890', '(555) 123-4567']}\n",
        "df = pd.DataFrame(data)\n",
        "\n",
        "# Remove non-numeric characters from the 'Phone' column\n",
        "df['Phone'] = df['Phone'].str.replace(r'\\D', '', regex=True)\n",
        "\n",
        "# Convert to numeric data type\n",
        "df['Phone'] = pd.to_numeric(df['Phone'])\n",
        "\n",
        "# Display the attributes and data types of each column\n",
        "print(df)\n",
        "print(\"\\nData types:\\n\", df.dtypes)\n",
        "```\n",
        "\n",
        "---\n",
        "\n",
        "### **8. Perform tasks on a `people` dataset:**\n",
        "\n",
        "```python\n",
        "# a) Read the CSV file and skip the first 50 rows\n",
        "df = pd.read_csv('data.csv', skiprows=50)\n",
        "\n",
        "# b) Only read the specified columns\n",
        "df_filtered = df[['Last Name', 'Gender', 'Email', 'Phone', 'Salary']]\n",
        "\n",
        "# c) Display the first 10 rows of the filtered dataset\n",
        "print(df_filtered.head(10))\n",
        "\n",
        "# d) Extract 'Salary' column as a Series and display its last 5 values\n",
        "salary_series = df_filtered['Salary']\n",
        "print(\"\\nLast 5 salaries:\\n\", salary_series.tail(5))\n",
        "```\n",
        "\n"
      ],
      "metadata": {
        "colab": {
          "base_uri": "https://localhost:8080/",
          "height": 140
        },
        "id": "5VfZUP9N3w_U",
        "outputId": "8ac80327-d377-4e7c-9c9f-816befee1271"
      },
      "execution_count": 4,
      "outputs": [
        {
          "output_type": "execute_result",
          "data": {
            "text/plain": [
              "'\\nq4.\\nTo generate a 3x3 array with random floating-point numbers between 0 and 20, and then round each number to 2 decimal places, you can use the following steps in NumPy:\\n\\n1. Use `np.random.uniform()` to generate random floating-point numbers within a specified range.\\n2. Use `np.round()` to round each number to 2 decimal places.\\n\\nHere’s the code to demonstrate this process:\\n\\n```python\\nimport numpy as np\\n\\n# Step 1: Generate a 3x3 array with random floating-point numbers between 0 and 20\\nrandom_array = np.random.uniform(0, 20, (3, 3))\\n\\n# Step 2: Round each number in the array to 2 decimal places\\nrounded_array = np.round(random_array, 2)\\n\\nprint(\"Random 3x3 array with values between 0 and 20:\")\\nprint(random_array)\\n\\nprint(\"\\nRounded array (to 2 decimal places):\")\\nprint(rounded_array)\\n```\\n\\n### Example Output:\\n\\n```\\nRandom 3x3 array with values between 0 and 20:\\n[[ 8.5965604  11.90164348 15.2063203 ]\\n [17.81731834  1.26848699 19.14719372]\\n [12.36067334  5.94183653  6.40259447]]\\n\\nRounded array (to 2 decimal places):\\n[[ 8.6  11.9  15.21]\\n [17.82  1.27 19.15]\\n [12.36  5.94  6.4 ]]\\n```\\n\\nThis code generates a random 3x3 array with numbers between 0 and 20 and then rounds each value to two decimal places.\\n'"
            ],
            "application/vnd.google.colaboratory.intrinsic+json": {
              "type": "string"
            }
          },
          "metadata": {},
          "execution_count": 4
        }
      ]
    },
    {
      "cell_type": "code",
      "source": [],
      "metadata": {
        "id": "ryIW8M8437Nu"
      },
      "execution_count": null,
      "outputs": []
    }
  ]
}